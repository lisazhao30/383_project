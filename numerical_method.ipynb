{
 "cells": [
  {
   "cell_type": "code",
   "execution_count": 42,
   "metadata": {},
   "outputs": [],
   "source": [
    "from scipy.optimize import fsolve\n",
    "import numpy as np"
   ]
  },
  {
   "cell_type": "code",
   "execution_count": 43,
   "metadata": {},
   "outputs": [],
   "source": [
    "def reynoldsNumber(density, velocity, diameter, viscosity) -> float:\n",
    "    \"\"\"\n",
    "    Return the reynold's number\n",
    "    \"\"\"\n",
    "    den = density\n",
    "    vel = velocity\n",
    "    dia = diameter\n",
    "    vis = viscosity\n",
    "    reynolds_number = (den*vel*dia)/vis\n",
    "    print(\"Reynold's number \", reynolds_number)\n",
    "    return reynolds_number"
   ]
  },
  {
   "cell_type": "code",
   "execution_count": 44,
   "metadata": {},
   "outputs": [],
   "source": [
    "\n",
    "# This is the rearranged expression from above\n",
    "def frictionFactor(reynolds_number, rel_roughness, diameter):\n",
    "    \"\"\"\n",
    "    Return the friction factor\n",
    "    \"\"\"\n",
    "    rey = reynolds_number\n",
    "    rel = rel_roughness\n",
    "    dia = diameter\n",
    "    def calculateFrictionFactor(x):\n",
    "        return (1/x**0.5) + 2*np.log10(((rel/dia))/3.7 + (2.51/(rey*x**0.5)))\n",
    "\n",
    "    # Solve the equation\n",
    "    # plug in the initial guess in second paramter\n",
    "    solution = fsolve(calculateFrictionFactor, 0.02)\n",
    "    print(\"Friction factor \", solution[0])\n",
    "    return solution[0]"
   ]
  },
  {
   "cell_type": "code",
   "execution_count": 45,
   "metadata": {},
   "outputs": [],
   "source": [
    "def getV2(z_2, z_1, friction_factor, length, diameter, p_2, v2_guess):\n",
    "    \"\"\"\n",
    "    Calculate V_2\n",
    "    \"\"\"\n",
    "    fri = friction_factor\n",
    "    dia = diameter\n",
    "    h = z_1 # height\n",
    "    g = 9.81\n",
    "    alpha = 1\n",
    "    k = 0.5\n",
    "    p_atm = 101.325\n",
    "    roh = 1000\n",
    "    a_2 = (np.pi * (diameter/2)**2) # area of pipe\n",
    "    a_1 = 0.32 * 0.26 # area of block\n",
    "    # let x = v_2\n",
    "    def calculateV2(x):\n",
    "        equation = (p_atm/roh*g) + ((alpha*((a_2/a_1) * x)**2)/(2*g)) + z_1 - ((p_2 + (roh * g * h))/(roh * g)) - ((alpha * x ** 2)/(2*g)) - z_2 \n",
    "        - (fri * (length / dia) * ((x**2)/2*g)) - ((k*x**2)/(2*g))\n",
    "        return equation\n",
    "    \n",
    "    solution = fsolve(calculateV2, v2_guess)\n",
    "    print(\"Calculated v_2 \", solution[0])\n",
    "    return solution[0]"
   ]
  },
  {
   "cell_type": "code",
   "execution_count": 48,
   "metadata": {},
   "outputs": [
    {
     "name": "stdout",
     "output_type": "stream",
     "text": [
      "Reynold's number  79.36031984007995\n",
      "Friction factor  0.1922294318332183\n",
      "Calculated v_2  4.154409919315894\n",
      "\n",
      "\n",
      "v2_guess  10 calculated_v2  4.154409919315894\n",
      "Reynold's number  32.96952999437101\n",
      "Friction factor  0.32671785760881616\n",
      "Calculated v_2  4.154409919315894\n",
      "final v2  4.154409919315894 guess  4.154409919315894 tol  0.0\n"
     ]
    }
   ],
   "source": [
    "# set constants\n",
    "diameter = 0.00794\n",
    "tube_diameter = 0.00794\n",
    "density_water = 1000\n",
    "viscosity = 1.0005\n",
    "rel_roughness = 7*10**-6\n",
    "z_1 = 0\n",
    "p_atm = 101.325\n",
    "p_2 = p_atm\n",
    "\n",
    "# set variables\n",
    "v2_guess = 10\n",
    "tube_length = 0.60\n",
    "# z_2 is start height of water\n",
    "z_2 = 0.08 + 0.02 + (1/150 * tube_length)\n",
    "\n",
    "\n",
    "# calculate reynold's number\n",
    "reynolds_number = reynoldsNumber(density_water, v2_guess, diameter, viscosity)\n",
    "\n",
    "# calculate friction factor\n",
    "friction_factor = frictionFactor(reynolds_number, rel_roughness, diameter)\n",
    "\n",
    "# calculate the new v_2\n",
    "calculated_v2 = getV2(z_2, z_1, friction_factor, tube_length, tube_diameter, p_2, v2_guess)\n",
    "\n",
    "# initial tolerance\n",
    "tol = 10\n",
    "\n",
    "# fixed point iteration\n",
    "while tol>0.000001:\n",
    "    print(\"\\n\")\n",
    "    print(\"v2_guess \", v2_guess, \"calculated_v2 \", calculated_v2)\n",
    "    v2_guess = calculated_v2\n",
    "    reynolds_number = reynoldsNumber(density_water, v2_guess, diameter, viscosity)\n",
    "    friction_factor = frictionFactor(reynolds_number, rel_roughness, diameter)\n",
    "    calculated_v2 = getV2(z_2, z_1, friction_factor, tube_length, tube_diameter, p_2, v2_guess)\n",
    "    tol = abs(v2_guess - calculated_v2)\n",
    "\n",
    "print(\"final v2 \", calculated_v2, \"guess \", v2_guess, \"tol \", tol)"
   ]
  }
 ],
 "metadata": {
  "kernelspec": {
   "display_name": "base",
   "language": "python",
   "name": "python3"
  },
  "language_info": {
   "codemirror_mode": {
    "name": "ipython",
    "version": 3
   },
   "file_extension": ".py",
   "mimetype": "text/x-python",
   "name": "python",
   "nbconvert_exporter": "python",
   "pygments_lexer": "ipython3",
   "version": "3.9.12"
  }
 },
 "nbformat": 4,
 "nbformat_minor": 2
}
